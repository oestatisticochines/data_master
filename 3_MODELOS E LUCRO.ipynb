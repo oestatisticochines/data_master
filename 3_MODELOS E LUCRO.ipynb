{
 "cells": [
  {
   "cell_type": "markdown",
   "id": "a337d724",
   "metadata": {},
   "source": [
    "## 3 - MODELOS E LUCRO"
   ]
  },
  {
   "cell_type": "code",
   "execution_count": 1,
   "id": "61ae39eb",
   "metadata": {},
   "outputs": [],
   "source": [
    "import pandas as pd\n",
    "import numpy as np\n",
    "import seaborn as sns\n",
    "import matplotlib.pyplot as plt\n",
    "import scipy.stats as st\n",
    "\n",
    "from sklearn.preprocessing import OneHotEncoder\n",
    "\n",
    "from sklearn.tree import DecisionTreeClassifier\n",
    "from sklearn.ensemble import RandomForestClassifier\n",
    "\n",
    "from sklearn.preprocessing import StandardScaler, normalize,MinMaxScaler\n",
    "\n",
    "\n",
    "from sklearn.metrics import accuracy_score\n",
    "from sklearn.metrics import roc_auc_score\n",
    "from sklearn.metrics import roc_curve, auc\n",
    "from sklearn.metrics import classification_report\n",
    "from sklearn.model_selection import train_test_split\n",
    "from sklearn.model_selection import cross_val_score\n",
    "from sklearn.model_selection import RepeatedStratifiedKFold\n",
    "from sklearn.model_selection import GridSearchCV\n",
    "\n",
    "from collections import Counter\n",
    "\n",
    "from imblearn.over_sampling import SVMSMOTE\n",
    "\n",
    "\n",
    "pd.set_option('display.max_rows',1000)\n",
    "pd.set_option('display.max_columns',1000)\n",
    "pd.set_option('display.width',1000)\n",
    "pd.set_option('display.max_colwidth',1000)\n",
    "\n",
    "from plotnine import *\n",
    "import plotnine\n",
    "\n",
    "from sklearn.cluster import KMeans\n",
    "from kmodes.kprototypes import KPrototypes\n",
    "\n",
    "import time\n",
    "import warnings\n",
    "warnings.filterwarnings(\"ignore\")\n"
   ]
  },
  {
   "cell_type": "code",
   "execution_count": 2,
   "id": "e8790f7d",
   "metadata": {},
   "outputs": [],
   "source": [
    "# Importar a base de treino tratada\n",
    "\n",
    "df = pd.read_csv('base_tratada_final.csv')"
   ]
  },
  {
   "cell_type": "code",
   "execution_count": 3,
   "id": "be7c31d9",
   "metadata": {},
   "outputs": [
    {
     "data": {
      "text/html": [
       "<div>\n",
       "<style scoped>\n",
       "    .dataframe tbody tr th:only-of-type {\n",
       "        vertical-align: middle;\n",
       "    }\n",
       "\n",
       "    .dataframe tbody tr th {\n",
       "        vertical-align: top;\n",
       "    }\n",
       "\n",
       "    .dataframe thead th {\n",
       "        text-align: right;\n",
       "    }\n",
       "</style>\n",
       "<table border=\"1\" class=\"dataframe\">\n",
       "  <thead>\n",
       "    <tr style=\"text-align: right;\">\n",
       "      <th></th>\n",
       "      <th>Frequência</th>\n",
       "      <th>Porcentagem</th>\n",
       "    </tr>\n",
       "    <tr>\n",
       "      <th>TARGET</th>\n",
       "      <th></th>\n",
       "      <th></th>\n",
       "    </tr>\n",
       "  </thead>\n",
       "  <tbody>\n",
       "    <tr>\n",
       "      <th>0</th>\n",
       "      <td>68364</td>\n",
       "      <td>96.05</td>\n",
       "    </tr>\n",
       "    <tr>\n",
       "      <th>1</th>\n",
       "      <td>2815</td>\n",
       "      <td>3.95</td>\n",
       "    </tr>\n",
       "  </tbody>\n",
       "</table>\n",
       "</div>"
      ],
      "text/plain": [
       "        Frequência  Porcentagem\n",
       "TARGET                         \n",
       "0            68364        96.05\n",
       "1             2815         3.95"
      ]
     },
     "execution_count": 3,
     "metadata": {},
     "output_type": "execute_result"
    }
   ],
   "source": [
    "pd.concat([df[['TARGET']].value_counts(),round(df[['TARGET']].value_counts(normalize=True)*100,2)],axis=1, keys=['Frequência', 'Porcentagem'])\n"
   ]
  },
  {
   "cell_type": "code",
   "execution_count": 4,
   "id": "518ebb31",
   "metadata": {},
   "outputs": [
    {
     "data": {
      "text/plain": [
       "<AxesSubplot:>"
      ]
     },
     "execution_count": 4,
     "metadata": {},
     "output_type": "execute_result"
    },
    {
     "data": {
      "image/png": "[encoded data removed]",
      "text/plain": [
       "<Figure size 432x288 with 1 Axes>"
      ]
     },
     "metadata": {
      "needs_background": "light"
     },
     "output_type": "display_data"
    }
   ],
   "source": [
    "df['TARGET'].value_counts().plot.bar()"
   ]
  },
  {
   "cell_type": "code",
   "execution_count": 5,
   "id": "6710a5ba",
   "metadata": {},
   "outputs": [
    {
     "data": {
      "text/plain": [
       "(71179, 10)"
      ]
     },
     "execution_count": 5,
     "metadata": {},
     "output_type": "execute_result"
    }
   ],
   "source": [
    "df.shape"
   ]
  },
  {
   "cell_type": "code",
   "execution_count": 6,
   "id": "def702d4",
   "metadata": {},
   "outputs": [
    {
     "data": {
      "text/html": [
       "<div>\n",
       "<style scoped>\n",
       "    .dataframe tbody tr th:only-of-type {\n",
       "        vertical-align: middle;\n",
       "    }\n",
       "\n",
       "    .dataframe tbody tr th {\n",
       "        vertical-align: top;\n",
       "    }\n",
       "\n",
       "    .dataframe thead th {\n",
       "        text-align: right;\n",
       "    }\n",
       "</style>\n",
       "<table border=\"1\" class=\"dataframe\">\n",
       "  <thead>\n",
       "    <tr style=\"text-align: right;\">\n",
       "      <th></th>\n",
       "      <th>TARGET</th>\n",
       "      <th>var15</th>\n",
       "      <th>inf_qtd_zeros</th>\n",
       "      <th>saldo_var30</th>\n",
       "      <th>saldo_var13</th>\n",
       "      <th>imp_op_var39_efect_ult1</th>\n",
       "      <th>var36</th>\n",
       "      <th>num_var30</th>\n",
       "      <th>num_op_var41_efect_ult3</th>\n",
       "      <th>num_op_var39_ult3</th>\n",
       "    </tr>\n",
       "  </thead>\n",
       "  <tbody>\n",
       "    <tr>\n",
       "      <th>0</th>\n",
       "      <td>0</td>\n",
       "      <td>23.0</td>\n",
       "      <td>355.0</td>\n",
       "      <td>0.0</td>\n",
       "      <td>0.0</td>\n",
       "      <td>0.0</td>\n",
       "      <td>99</td>\n",
       "      <td>0</td>\n",
       "      <td>0</td>\n",
       "      <td>0</td>\n",
       "    </tr>\n",
       "    <tr>\n",
       "      <th>1</th>\n",
       "      <td>0</td>\n",
       "      <td>34.0</td>\n",
       "      <td>329.0</td>\n",
       "      <td>300.0</td>\n",
       "      <td>300.0</td>\n",
       "      <td>0.0</td>\n",
       "      <td>3</td>\n",
       "      <td>3</td>\n",
       "      <td>0</td>\n",
       "      <td>0</td>\n",
       "    </tr>\n",
       "  </tbody>\n",
       "</table>\n",
       "</div>"
      ],
      "text/plain": [
       "   TARGET  var15  inf_qtd_zeros  saldo_var30  saldo_var13  imp_op_var39_efect_ult1  var36  num_var30  num_op_var41_efect_ult3  num_op_var39_ult3\n",
       "0       0   23.0          355.0          0.0          0.0                      0.0     99          0                        0                  0\n",
       "1       0   34.0          329.0        300.0        300.0                      0.0      3          3                        0                  0"
      ]
     },
     "execution_count": 6,
     "metadata": {},
     "output_type": "execute_result"
    }
   ],
   "source": [
    "df.head(2)"
   ]
  },
  {
   "cell_type": "markdown",
   "id": "3a11b115",
   "metadata": {},
   "source": [
    "### DIVISÃO DOS DADOS "
   ]
  },
  {
   "cell_type": "code",
   "execution_count": 7,
   "id": "144154ae",
   "metadata": {},
   "outputs": [],
   "source": [
    "#Divisão em dados de treino e teste\n",
    "\n",
    "X = df.drop(['TARGET'],axis=1)\n",
    "y = df['TARGET'].values\n",
    "X_train , X_test, y_train, y_test = train_test_split(X,y,test_size=0.20,random_state=8888, stratify=y)"
   ]
  },
  {
   "cell_type": "code",
   "execution_count": 8,
   "id": "dc87b251",
   "metadata": {},
   "outputs": [
    {
     "name": "stdout",
     "output_type": "stream",
     "text": [
      "(56943, 9)\n",
      "(14236, 9)\n",
      "(56943,)\n",
      "(14236,)\n"
     ]
    }
   ],
   "source": [
    "print(X_train.shape)\n",
    "print(X_test.shape)\n",
    "print(y_train.shape)\n",
    "print(y_test.shape)"
   ]
  },
  {
   "cell_type": "code",
   "execution_count": 9,
   "id": "2a526d3f",
   "metadata": {},
   "outputs": [
    {
     "name": "stdout",
     "output_type": "stream",
     "text": [
      "Counter({0: 54691, 1: 2252})\n"
     ]
    }
   ],
   "source": [
    "# Faz o balanceamento\n",
    "\n",
    "# Coleta os valores para X e y\n",
    "X = X_train.copy()\n",
    "y = y_train.copy()\n",
    "\n",
    "# Distribuição da target\n",
    "\n",
    "counter = Counter(y)\n",
    "print(counter)"
   ]
  },
  {
   "cell_type": "code",
   "execution_count": 10,
   "id": "003d6430",
   "metadata": {},
   "outputs": [
    {
     "name": "stdout",
     "output_type": "stream",
     "text": [
      "Counter({0: 54691, 1: 2252})\n",
      "Counter({0: 54691, 1: 54691})\n",
      "CPU times: total: 8.62 s\n",
      "Wall time: 8.96 s\n"
     ]
    }
   ],
   "source": [
    "%%time \n",
    "\n",
    "# Over-sampling datase - bordline - Smote com SVM\n",
    "\n",
    "# Distribuição da target\n",
    "counter = Counter(y)\n",
    "print(counter)\n",
    "\n",
    "# Define o método de over-sampling\n",
    "oversample = SVMSMOTE(random_state=8888)\n",
    "\n",
    "# Transforma dataset\n",
    "\n",
    "X, y = oversample.fit_resample(X,y)\n",
    "\n",
    "# Distribuição da target após balancear\n",
    "counter = Counter(y)\n",
    "print(counter)"
   ]
  },
  {
   "cell_type": "markdown",
   "id": "fa5c6444",
   "metadata": {},
   "source": [
    "## ARVORE DE DECISÃO"
   ]
  },
  {
   "cell_type": "code",
   "execution_count": 11,
   "id": "eae4a8b3",
   "metadata": {},
   "outputs": [
    {
     "name": "stdout",
     "output_type": "stream",
     "text": [
      "melhor: 0.899380 usando {'criterion': 'gini', 'max_depth': 10, 'min_samples_leaf': 100}\n",
      "0.873001 (0.001397) com: {'criterion': 'gini', 'max_depth': 3, 'min_samples_leaf': 100}\n",
      "0.873001 (0.001397) com: {'criterion': 'gini', 'max_depth': 3, 'min_samples_leaf': 150}\n",
      "0.873001 (0.001397) com: {'criterion': 'gini', 'max_depth': 3, 'min_samples_leaf': 200}\n",
      "0.873001 (0.001397) com: {'criterion': 'gini', 'max_depth': 3, 'min_samples_leaf': 250}\n",
      "0.873001 (0.001397) com: {'criterion': 'gini', 'max_depth': 3, 'min_samples_leaf': 300}\n",
      "0.877020 (0.003836) com: {'criterion': 'gini', 'max_depth': 4, 'min_samples_leaf': 100}\n",
      "0.877020 (0.003836) com: {'criterion': 'gini', 'max_depth': 4, 'min_samples_leaf': 150}\n",
      "0.877020 (0.003836) com: {'criterion': 'gini', 'max_depth': 4, 'min_samples_leaf': 200}\n",
      "0.877020 (0.003836) com: {'criterion': 'gini', 'max_depth': 4, 'min_samples_leaf': 250}\n",
      "0.877020 (0.003836) com: {'criterion': 'gini', 'max_depth': 4, 'min_samples_leaf': 300}\n",
      "0.882621 (0.001405) com: {'criterion': 'gini', 'max_depth': 5, 'min_samples_leaf': 100}\n",
      "0.882077 (0.001353) com: {'criterion': 'gini', 'max_depth': 5, 'min_samples_leaf': 150}\n",
      "0.881794 (0.001283) com: {'criterion': 'gini', 'max_depth': 5, 'min_samples_leaf': 200}\n",
      "0.880591 (0.001316) com: {'criterion': 'gini', 'max_depth': 5, 'min_samples_leaf': 250}\n",
      "0.880428 (0.001204) com: {'criterion': 'gini', 'max_depth': 5, 'min_samples_leaf': 300}\n",
      "0.887049 (0.002086) com: {'criterion': 'gini', 'max_depth': 6, 'min_samples_leaf': 100}\n",
      "0.886846 (0.002235) com: {'criterion': 'gini', 'max_depth': 6, 'min_samples_leaf': 150}\n",
      "0.886261 (0.002281) com: {'criterion': 'gini', 'max_depth': 6, 'min_samples_leaf': 200}\n",
      "0.884793 (0.002167) com: {'criterion': 'gini', 'max_depth': 6, 'min_samples_leaf': 250}\n",
      "0.884654 (0.001889) com: {'criterion': 'gini', 'max_depth': 6, 'min_samples_leaf': 300}\n",
      "0.892450 (0.001837) com: {'criterion': 'gini', 'max_depth': 7, 'min_samples_leaf': 100}\n",
      "0.891724 (0.002117) com: {'criterion': 'gini', 'max_depth': 7, 'min_samples_leaf': 150}\n",
      "0.891066 (0.001943) com: {'criterion': 'gini', 'max_depth': 7, 'min_samples_leaf': 200}\n",
      "0.889441 (0.002191) com: {'criterion': 'gini', 'max_depth': 7, 'min_samples_leaf': 250}\n",
      "0.888750 (0.001916) com: {'criterion': 'gini', 'max_depth': 7, 'min_samples_leaf': 300}\n",
      "0.895359 (0.001709) com: {'criterion': 'gini', 'max_depth': 8, 'min_samples_leaf': 100}\n",
      "0.893942 (0.001902) com: {'criterion': 'gini', 'max_depth': 8, 'min_samples_leaf': 150}\n",
      "0.892139 (0.001788) com: {'criterion': 'gini', 'max_depth': 8, 'min_samples_leaf': 200}\n",
      "0.889923 (0.001953) com: {'criterion': 'gini', 'max_depth': 8, 'min_samples_leaf': 250}\n",
      "0.889238 (0.001707) com: {'criterion': 'gini', 'max_depth': 8, 'min_samples_leaf': 300}\n",
      "0.898042 (0.001523) com: {'criterion': 'gini', 'max_depth': 9, 'min_samples_leaf': 100}\n",
      "0.896063 (0.001928) com: {'criterion': 'gini', 'max_depth': 9, 'min_samples_leaf': 150}\n",
      "0.894383 (0.001803) com: {'criterion': 'gini', 'max_depth': 9, 'min_samples_leaf': 200}\n",
      "0.891470 (0.001947) com: {'criterion': 'gini', 'max_depth': 9, 'min_samples_leaf': 250}\n",
      "0.890785 (0.001661) com: {'criterion': 'gini', 'max_depth': 9, 'min_samples_leaf': 300}\n",
      "0.899380 (0.001627) com: {'criterion': 'gini', 'max_depth': 10, 'min_samples_leaf': 100}\n",
      "0.896687 (0.001949) com: {'criterion': 'gini', 'max_depth': 10, 'min_samples_leaf': 150}\n",
      "0.895081 (0.001856) com: {'criterion': 'gini', 'max_depth': 10, 'min_samples_leaf': 200}\n",
      "0.892152 (0.001902) com: {'criterion': 'gini', 'max_depth': 10, 'min_samples_leaf': 250}\n",
      "0.891408 (0.001720) com: {'criterion': 'gini', 'max_depth': 10, 'min_samples_leaf': 300}\n",
      "0.873001 (0.001397) com: {'criterion': 'entropy', 'max_depth': 3, 'min_samples_leaf': 100}\n",
      "0.873001 (0.001397) com: {'criterion': 'entropy', 'max_depth': 3, 'min_samples_leaf': 150}\n",
      "0.873001 (0.001397) com: {'criterion': 'entropy', 'max_depth': 3, 'min_samples_leaf': 200}\n",
      "0.873001 (0.001397) com: {'criterion': 'entropy', 'max_depth': 3, 'min_samples_leaf': 250}\n",
      "0.873001 (0.001397) com: {'criterion': 'entropy', 'max_depth': 3, 'min_samples_leaf': 300}\n",
      "0.872921 (0.001347) com: {'criterion': 'entropy', 'max_depth': 4, 'min_samples_leaf': 100}\n",
      "0.872921 (0.001347) com: {'criterion': 'entropy', 'max_depth': 4, 'min_samples_leaf': 150}\n",
      "0.872921 (0.001347) com: {'criterion': 'entropy', 'max_depth': 4, 'min_samples_leaf': 200}\n",
      "0.872921 (0.001347) com: {'criterion': 'entropy', 'max_depth': 4, 'min_samples_leaf': 250}\n",
      "0.872921 (0.001347) com: {'criterion': 'entropy', 'max_depth': 4, 'min_samples_leaf': 300}\n",
      "0.882037 (0.001506) com: {'criterion': 'entropy', 'max_depth': 5, 'min_samples_leaf': 100}\n",
      "0.881694 (0.001467) com: {'criterion': 'entropy', 'max_depth': 5, 'min_samples_leaf': 150}\n",
      "0.881507 (0.001421) com: {'criterion': 'entropy', 'max_depth': 5, 'min_samples_leaf': 200}\n",
      "0.880622 (0.001449) com: {'criterion': 'entropy', 'max_depth': 5, 'min_samples_leaf': 250}\n",
      "0.880575 (0.001298) com: {'criterion': 'entropy', 'max_depth': 5, 'min_samples_leaf': 300}\n",
      "0.886479 (0.002180) com: {'criterion': 'entropy', 'max_depth': 6, 'min_samples_leaf': 100}\n",
      "0.886340 (0.002061) com: {'criterion': 'entropy', 'max_depth': 6, 'min_samples_leaf': 150}\n",
      "0.885601 (0.002098) com: {'criterion': 'entropy', 'max_depth': 6, 'min_samples_leaf': 200}\n",
      "0.884460 (0.001995) com: {'criterion': 'entropy', 'max_depth': 6, 'min_samples_leaf': 250}\n",
      "0.884458 (0.001925) com: {'criterion': 'entropy', 'max_depth': 6, 'min_samples_leaf': 300}\n",
      "0.891289 (0.002026) com: {'criterion': 'entropy', 'max_depth': 7, 'min_samples_leaf': 100}\n",
      "0.890507 (0.002165) com: {'criterion': 'entropy', 'max_depth': 7, 'min_samples_leaf': 150}\n",
      "0.890256 (0.002107) com: {'criterion': 'entropy', 'max_depth': 7, 'min_samples_leaf': 200}\n",
      "0.889082 (0.002167) com: {'criterion': 'entropy', 'max_depth': 7, 'min_samples_leaf': 250}\n",
      "0.888349 (0.002026) com: {'criterion': 'entropy', 'max_depth': 7, 'min_samples_leaf': 300}\n",
      "0.895021 (0.001643) com: {'criterion': 'entropy', 'max_depth': 8, 'min_samples_leaf': 100}\n",
      "0.892960 (0.001926) com: {'criterion': 'entropy', 'max_depth': 8, 'min_samples_leaf': 150}\n",
      "0.891664 (0.001997) com: {'criterion': 'entropy', 'max_depth': 8, 'min_samples_leaf': 200}\n",
      "0.889660 (0.002166) com: {'criterion': 'entropy', 'max_depth': 8, 'min_samples_leaf': 250}\n",
      "0.888938 (0.001922) com: {'criterion': 'entropy', 'max_depth': 8, 'min_samples_leaf': 300}\n",
      "0.897378 (0.001570) com: {'criterion': 'entropy', 'max_depth': 9, 'min_samples_leaf': 100}\n",
      "0.895153 (0.001746) com: {'criterion': 'entropy', 'max_depth': 9, 'min_samples_leaf': 150}\n",
      "0.893957 (0.001839) com: {'criterion': 'entropy', 'max_depth': 9, 'min_samples_leaf': 200}\n",
      "0.891351 (0.001973) com: {'criterion': 'entropy', 'max_depth': 9, 'min_samples_leaf': 250}\n",
      "0.890629 (0.001709) com: {'criterion': 'entropy', 'max_depth': 9, 'min_samples_leaf': 300}\n",
      "0.899230 (0.001514) com: {'criterion': 'entropy', 'max_depth': 10, 'min_samples_leaf': 100}\n",
      "0.895882 (0.001851) com: {'criterion': 'entropy', 'max_depth': 10, 'min_samples_leaf': 150}\n",
      "0.894571 (0.001876) com: {'criterion': 'entropy', 'max_depth': 10, 'min_samples_leaf': 200}\n",
      "0.892015 (0.001944) com: {'criterion': 'entropy', 'max_depth': 10, 'min_samples_leaf': 250}\n",
      "0.891308 (0.001756) com: {'criterion': 'entropy', 'max_depth': 10, 'min_samples_leaf': 300}\n",
      "0.873001 (0.001397) com: {'criterion': 'log_loss', 'max_depth': 3, 'min_samples_leaf': 100}\n",
      "0.873001 (0.001397) com: {'criterion': 'log_loss', 'max_depth': 3, 'min_samples_leaf': 150}\n",
      "0.873001 (0.001397) com: {'criterion': 'log_loss', 'max_depth': 3, 'min_samples_leaf': 200}\n",
      "0.873001 (0.001397) com: {'criterion': 'log_loss', 'max_depth': 3, 'min_samples_leaf': 250}\n",
      "0.873001 (0.001397) com: {'criterion': 'log_loss', 'max_depth': 3, 'min_samples_leaf': 300}\n",
      "0.872921 (0.001347) com: {'criterion': 'log_loss', 'max_depth': 4, 'min_samples_leaf': 100}\n",
      "0.872921 (0.001347) com: {'criterion': 'log_loss', 'max_depth': 4, 'min_samples_leaf': 150}\n",
      "0.872921 (0.001347) com: {'criterion': 'log_loss', 'max_depth': 4, 'min_samples_leaf': 200}\n",
      "0.872921 (0.001347) com: {'criterion': 'log_loss', 'max_depth': 4, 'min_samples_leaf': 250}\n",
      "0.872921 (0.001347) com: {'criterion': 'log_loss', 'max_depth': 4, 'min_samples_leaf': 300}\n",
      "0.882037 (0.001506) com: {'criterion': 'log_loss', 'max_depth': 5, 'min_samples_leaf': 100}\n",
      "0.881694 (0.001467) com: {'criterion': 'log_loss', 'max_depth': 5, 'min_samples_leaf': 150}\n",
      "0.881507 (0.001421) com: {'criterion': 'log_loss', 'max_depth': 5, 'min_samples_leaf': 200}\n",
      "0.880622 (0.001449) com: {'criterion': 'log_loss', 'max_depth': 5, 'min_samples_leaf': 250}\n",
      "0.880575 (0.001298) com: {'criterion': 'log_loss', 'max_depth': 5, 'min_samples_leaf': 300}\n",
      "0.886479 (0.002180) com: {'criterion': 'log_loss', 'max_depth': 6, 'min_samples_leaf': 100}\n",
      "0.886340 (0.002061) com: {'criterion': 'log_loss', 'max_depth': 6, 'min_samples_leaf': 150}\n",
      "0.885601 (0.002098) com: {'criterion': 'log_loss', 'max_depth': 6, 'min_samples_leaf': 200}\n",
      "0.884460 (0.001995) com: {'criterion': 'log_loss', 'max_depth': 6, 'min_samples_leaf': 250}\n",
      "0.884458 (0.001925) com: {'criterion': 'log_loss', 'max_depth': 6, 'min_samples_leaf': 300}\n",
      "0.891289 (0.002026) com: {'criterion': 'log_loss', 'max_depth': 7, 'min_samples_leaf': 100}\n",
      "0.890507 (0.002165) com: {'criterion': 'log_loss', 'max_depth': 7, 'min_samples_leaf': 150}\n",
      "0.890256 (0.002107) com: {'criterion': 'log_loss', 'max_depth': 7, 'min_samples_leaf': 200}\n",
      "0.889082 (0.002167) com: {'criterion': 'log_loss', 'max_depth': 7, 'min_samples_leaf': 250}\n",
      "0.888349 (0.002026) com: {'criterion': 'log_loss', 'max_depth': 7, 'min_samples_leaf': 300}\n",
      "0.895021 (0.001643) com: {'criterion': 'log_loss', 'max_depth': 8, 'min_samples_leaf': 100}\n",
      "0.892971 (0.001938) com: {'criterion': 'log_loss', 'max_depth': 8, 'min_samples_leaf': 150}\n",
      "0.891664 (0.001997) com: {'criterion': 'log_loss', 'max_depth': 8, 'min_samples_leaf': 200}\n",
      "0.889660 (0.002166) com: {'criterion': 'log_loss', 'max_depth': 8, 'min_samples_leaf': 250}\n",
      "0.888938 (0.001922) com: {'criterion': 'log_loss', 'max_depth': 8, 'min_samples_leaf': 300}\n",
      "0.897378 (0.001570) com: {'criterion': 'log_loss', 'max_depth': 9, 'min_samples_leaf': 100}\n",
      "0.895134 (0.001740) com: {'criterion': 'log_loss', 'max_depth': 9, 'min_samples_leaf': 150}\n",
      "0.893957 (0.001839) com: {'criterion': 'log_loss', 'max_depth': 9, 'min_samples_leaf': 200}\n",
      "0.891351 (0.001973) com: {'criterion': 'log_loss', 'max_depth': 9, 'min_samples_leaf': 250}\n",
      "0.890629 (0.001709) com: {'criterion': 'log_loss', 'max_depth': 9, 'min_samples_leaf': 300}\n",
      "0.899230 (0.001514) com: {'criterion': 'log_loss', 'max_depth': 10, 'min_samples_leaf': 100}\n",
      "0.895890 (0.001850) com: {'criterion': 'log_loss', 'max_depth': 10, 'min_samples_leaf': 150}\n",
      "0.894571 (0.001876) com: {'criterion': 'log_loss', 'max_depth': 10, 'min_samples_leaf': 200}\n",
      "0.892015 (0.001944) com: {'criterion': 'log_loss', 'max_depth': 10, 'min_samples_leaf': 250}\n",
      "0.891308 (0.001756) com: {'criterion': 'log_loss', 'max_depth': 10, 'min_samples_leaf': 300}\n",
      "CPU times: total: 10.8 s\n",
      "Wall time: 1min 26s\n"
     ]
    }
   ],
   "source": [
    "%%time \n",
    "\n",
    "\n",
    "\n",
    "#Cria dicionário\n",
    "param_grid = dict(\n",
    "        \n",
    "    \n",
    "    max_depth=[3, 4, 5, 6, 7, 8, 9, 10],\n",
    "    criterion = ['gini', 'entropy','log_loss'],\n",
    "    min_samples_leaf = [100,150,200,250,300]\n",
    "\n",
    "    \n",
    "    \n",
    "    \n",
    "     # 8 * 3 * 5 = 120 \n",
    "   \n",
    "    \n",
    "    \n",
    "    \n",
    ")\n",
    "\n",
    "# Define o modelo\n",
    "model = DecisionTreeClassifier()\n",
    "\n",
    "# Define procedimento de avaliação\n",
    "cv = RepeatedStratifiedKFold(n_splits=5, n_repeats=5,random_state=8888)\n",
    "\n",
    "# Define grid search\n",
    "grid = GridSearchCV(estimator = model, param_grid=param_grid,n_jobs=-1,cv =cv)\n",
    "\n",
    "\n",
    "\n",
    "# Execução grid search\n",
    "grid_result = grid.fit(X,y)\n",
    "\n",
    "print('melhor: %f usando %s'% (grid_result.best_score_,grid_result.best_params_))\n",
    "\n",
    "# Resumo de todas as configurações\n",
    "\n",
    "means = grid_result.cv_results_['mean_test_score']\n",
    "stds = grid_result.cv_results_['std_test_score']\n",
    "params = grid_result.cv_results_['params']\n",
    "\n",
    "for mean, stdev, param in zip(means, stds, params):\n",
    "    print('%f (%f) com: %r' % (mean,stdev,param))"
   ]
  },
  {
   "cell_type": "code",
   "execution_count": 12,
   "id": "2cda24ff",
   "metadata": {},
   "outputs": [],
   "source": [
    "#melhor: 0.899380 usando {'criterion': 'gini', 'max_depth': 10, 'min_samples_leaf': 100}"
   ]
  },
  {
   "cell_type": "code",
   "execution_count": 13,
   "id": "c94bd578",
   "metadata": {},
   "outputs": [
    {
     "name": "stdout",
     "output_type": "stream",
     "text": [
      "Accuracy: 86.65%\n"
     ]
    }
   ],
   "source": [
    "modelo_tree = DecisionTreeClassifier(max_depth = 10, min_samples_leaf = 100, criterion =  'gini', random_state = 8888 )\n",
    "\n",
    "# fit model no training data\n",
    "modelo_tree.fit(X, y)\n",
    "\n",
    "\n",
    "# make predictions for test data\n",
    "y_pred = modelo_tree.predict(X_test)\n",
    "predictions = [round(value) for value in y_pred]\n",
    "\n",
    "\n",
    "# evaluate predictions\n",
    "accuracy = accuracy_score(y_test, predictions)\n",
    "print(\"Accuracy: %.2f%%\" % (accuracy * 100.0))"
   ]
  },
  {
   "cell_type": "code",
   "execution_count": 14,
   "id": "c0fa43ff",
   "metadata": {},
   "outputs": [
    {
     "name": "stdout",
     "output_type": "stream",
     "text": [
      "              precision    recall  f1-score   support\n",
      "\n",
      "     class 0       0.98      0.88      0.93     13673\n",
      "     class 1       0.16      0.56      0.25       563\n",
      "\n",
      "    accuracy                           0.87     14236\n",
      "   macro avg       0.57      0.72      0.59     14236\n",
      "weighted avg       0.95      0.87      0.90     14236\n",
      "\n"
     ]
    }
   ],
   "source": [
    "target_names = ['class 0', 'class 1']\n",
    "print(classification_report(y_test, predictions, target_names=target_names))"
   ]
  },
  {
   "cell_type": "code",
   "execution_count": 15,
   "id": "8d684ef7",
   "metadata": {},
   "outputs": [
    {
     "data": {
      "text/plain": [
       "array([[  316,   247],\n",
       "       [ 1654, 12019]])"
      ]
     },
     "execution_count": 15,
     "metadata": {},
     "output_type": "execute_result"
    }
   ],
   "source": [
    "def get_confusion_matrix(reais, preditos, labels):\n",
    "    \"\"\"\n",
    "    Uma função que retorna a matriz de confusão para uma classificação binária\n",
    "    \n",
    "    Args:\n",
    "        reais (list): lista de valores reais\n",
    "        preditos (list): lista de valores preditos pelo modelos\n",
    "        labels (list): lista de labels a serem avaliados.\n",
    "            É importante que ela esteja presente, pois usaremos ela para entender\n",
    "            quem é a classe positiva e quem é a classe negativa\n",
    "    \n",
    "    Returns:\n",
    "        Um numpy.array, no formato:\n",
    "            numpy.array([\n",
    "                [ tp, fp ],\n",
    "                [ fn, tn ]\n",
    "            ])\n",
    "    \"\"\"\n",
    "   \n",
    "    \n",
    "    # considerando a primeira classe como a positiva, e a segunda a negativa\n",
    "    true_class = labels[0]\n",
    "    negative_class = labels[1]\n",
    "\n",
    "    # valores preditos corretamente\n",
    "    tp = 0\n",
    "    tn = 0\n",
    "    \n",
    "    # valores preditos incorretamente\n",
    "    fp = 0\n",
    "    fn = 0\n",
    "    \n",
    "    for (indice, v_real) in enumerate(reais):\n",
    "        v_predito = preditos[indice]\n",
    "\n",
    "        # se trata de um valor real da classe positiva\n",
    "        if v_real == true_class:\n",
    "            tp += 1 if v_predito == v_real else 0\n",
    "            fp += 1 if v_predito != v_real else 0\n",
    "        else:\n",
    "            tn += 1 if v_predito == v_real else 0\n",
    "            fn += 1 if v_predito != v_real else 0\n",
    "    \n",
    "    return np.array([\n",
    "        # valores da classe positiva\n",
    "        [ tp, fp ],\n",
    "        # valores da classe negativa\n",
    "        [ fn, tn ]\n",
    "    ])\n",
    "\n",
    "r1,r2 = get_confusion_matrix(reais=y_test, preditos=y_pred, labels=[1,0])\n",
    "\n",
    "get_confusion_matrix(reais=y_test, preditos=y_pred, labels=[1,0])"
   ]
  },
  {
   "cell_type": "code",
   "execution_count": 16,
   "id": "a61f3817",
   "metadata": {},
   "outputs": [
    {
     "name": "stdout",
     "output_type": "stream",
     "text": [
      "Verdadeiro Positivo: 316\n",
      "Falso Positivo:  247\n",
      "Falso Negativo: 1654\n",
      "Verdadeiro Negativo: 12019\n"
     ]
    }
   ],
   "source": [
    "vp = r1[0]\n",
    "fp = r1[1]\n",
    "fn = r2[0]\n",
    "vn = r2[1]\n",
    "print('Verdadeiro Positivo:',vp)\n",
    "print('Falso Positivo: ',fp)\n",
    "print('Falso Negativo:',fn)\n",
    "print('Verdadeiro Negativo:', vn)"
   ]
  },
  {
   "cell_type": "code",
   "execution_count": 17,
   "id": "99473994",
   "metadata": {},
   "outputs": [
    {
     "name": "stdout",
     "output_type": "stream",
     "text": [
      "O lucro máximo possível é de 25970 reais\n",
      "O lucro máximo esperado por cliente é de 1.8242483843776343 reais\n"
     ]
    }
   ],
   "source": [
    "# CALCULANDO O LUCRO \n",
    "\n",
    "Lucro_max = (90*vp) - (10*fp)\n",
    "\n",
    "Lucro_max_cliente = (((90*vp) - (10*fp))/(vp+vn+fn+fp))\n",
    "\n",
    "print('O lucro máximo possível é de',Lucro_max,'reais')\n",
    "print('O lucro máximo esperado por cliente é de',Lucro_max_cliente,'reais')"
   ]
  },
  {
   "cell_type": "code",
   "execution_count": 18,
   "id": "f649beb9",
   "metadata": {},
   "outputs": [
    {
     "name": "stdout",
     "output_type": "stream",
     "text": [
      "Threshold= 0.192982, G-means = 0.736\n"
     ]
    },
    {
     "data": {
      "image/png": "[encoded data removed]",
      "text/plain": [
       "<Figure size 432x288 with 1 Axes>"
      ]
     },
     "metadata": {
      "needs_background": "light"
     },
     "output_type": "display_data"
    }
   ],
   "source": [
    "#Utilizando o modelo para a previsão\n",
    "\n",
    "y_prob = modelo_tree.predict_proba(X_test)\n",
    "\n",
    "#Probabilidade dos casos positivos\n",
    "y_prob = y_prob[:, 1]\n",
    "\n",
    "# Calculo da curva roc\n",
    "\n",
    "fpr, tpr, thresholds = roc_curve(y_test, y_prob)\n",
    "\n",
    "gmeans = np.sqrt(tpr * (1-fpr))\n",
    "\n",
    "#o melhor corte\n",
    "\n",
    "ix = np.argmax(gmeans)\n",
    "print('Threshold= %f, G-means = %.3f' % (thresholds[ix], gmeans[ix]))\n",
    "\n",
    "#Plotar o gráfico\n",
    "plt.plot([0,1],[0,1], linestyle='-', label='Sem previsão')\n",
    "plt.plot(fpr,tpr,marker = '.', label='Decision_Tree')\n",
    "plt.scatter(fpr[ix], tpr[ix],marker='o',color='blue',label='Melhor')\n",
    "\n",
    "plt.xlabel('Taxa de falso positivo')\n",
    "plt.ylabel('Taxa de verdadeiro positivo')\n",
    "plt.legend()\n",
    "\n",
    "#Plotar\n",
    "plt.show()\n",
    "\n",
    "\n"
   ]
  },
  {
   "cell_type": "markdown",
   "id": "33cc7243",
   "metadata": {},
   "source": [
    "## RANDOM FOREST"
   ]
  },
  {
   "cell_type": "code",
   "execution_count": 19,
   "id": "50858444",
   "metadata": {},
   "outputs": [
    {
     "name": "stdout",
     "output_type": "stream",
     "text": [
      "melhor: 0.899472 usando {'max_depth': 12, 'min_samples_leaf': 100, 'n_estimators': 200}\n",
      "0.883959 (0.001529) com: {'max_depth': 5, 'min_samples_leaf': 100, 'n_estimators': 100}\n",
      "0.884034 (0.001586) com: {'max_depth': 5, 'min_samples_leaf': 100, 'n_estimators': 150}\n",
      "0.883849 (0.001380) com: {'max_depth': 5, 'min_samples_leaf': 100, 'n_estimators': 200}\n",
      "0.883886 (0.001454) com: {'max_depth': 5, 'min_samples_leaf': 100, 'n_estimators': 250}\n",
      "0.883416 (0.001525) com: {'max_depth': 5, 'min_samples_leaf': 150, 'n_estimators': 100}\n",
      "0.883193 (0.001368) com: {'max_depth': 5, 'min_samples_leaf': 150, 'n_estimators': 150}\n",
      "0.883343 (0.001399) com: {'max_depth': 5, 'min_samples_leaf': 150, 'n_estimators': 200}\n",
      "0.883303 (0.001389) com: {'max_depth': 5, 'min_samples_leaf': 150, 'n_estimators': 250}\n",
      "0.882908 (0.001471) com: {'max_depth': 5, 'min_samples_leaf': 200, 'n_estimators': 100}\n",
      "0.882911 (0.001340) com: {'max_depth': 5, 'min_samples_leaf': 200, 'n_estimators': 150}\n",
      "0.882939 (0.001543) com: {'max_depth': 5, 'min_samples_leaf': 200, 'n_estimators': 200}\n",
      "0.882919 (0.001268) com: {'max_depth': 5, 'min_samples_leaf': 200, 'n_estimators': 250}\n",
      "0.887391 (0.001538) com: {'max_depth': 6, 'min_samples_leaf': 100, 'n_estimators': 100}\n",
      "0.887203 (0.001589) com: {'max_depth': 6, 'min_samples_leaf': 100, 'n_estimators': 150}\n",
      "0.887252 (0.001437) com: {'max_depth': 6, 'min_samples_leaf': 100, 'n_estimators': 200}\n",
      "0.887332 (0.001450) com: {'max_depth': 6, 'min_samples_leaf': 100, 'n_estimators': 250}\n",
      "0.886029 (0.001244) com: {'max_depth': 6, 'min_samples_leaf': 150, 'n_estimators': 100}\n",
      "0.886170 (0.001294) com: {'max_depth': 6, 'min_samples_leaf': 150, 'n_estimators': 150}\n",
      "0.886329 (0.001459) com: {'max_depth': 6, 'min_samples_leaf': 150, 'n_estimators': 200}\n",
      "0.885945 (0.001243) com: {'max_depth': 6, 'min_samples_leaf': 150, 'n_estimators': 250}\n",
      "0.885299 (0.001261) com: {'max_depth': 6, 'min_samples_leaf': 200, 'n_estimators': 100}\n",
      "0.885312 (0.001278) com: {'max_depth': 6, 'min_samples_leaf': 200, 'n_estimators': 150}\n",
      "0.885429 (0.001474) com: {'max_depth': 6, 'min_samples_leaf': 200, 'n_estimators': 200}\n",
      "0.885339 (0.001223) com: {'max_depth': 6, 'min_samples_leaf': 200, 'n_estimators': 250}\n",
      "0.891576 (0.002428) com: {'max_depth': 7, 'min_samples_leaf': 100, 'n_estimators': 100}\n",
      "0.891871 (0.001866) com: {'max_depth': 7, 'min_samples_leaf': 100, 'n_estimators': 150}\n",
      "0.891251 (0.001641) com: {'max_depth': 7, 'min_samples_leaf': 100, 'n_estimators': 200}\n",
      "0.891688 (0.001950) com: {'max_depth': 7, 'min_samples_leaf': 100, 'n_estimators': 250}\n",
      "0.889894 (0.001862) com: {'max_depth': 7, 'min_samples_leaf': 150, 'n_estimators': 100}\n",
      "0.890199 (0.001880) com: {'max_depth': 7, 'min_samples_leaf': 150, 'n_estimators': 150}\n",
      "0.890137 (0.001769) com: {'max_depth': 7, 'min_samples_leaf': 150, 'n_estimators': 200}\n",
      "0.889336 (0.001602) com: {'max_depth': 7, 'min_samples_leaf': 150, 'n_estimators': 250}\n",
      "0.888929 (0.001911) com: {'max_depth': 7, 'min_samples_leaf': 200, 'n_estimators': 100}\n",
      "0.888982 (0.001548) com: {'max_depth': 7, 'min_samples_leaf': 200, 'n_estimators': 150}\n",
      "0.888793 (0.001476) com: {'max_depth': 7, 'min_samples_leaf': 200, 'n_estimators': 200}\n",
      "0.889011 (0.001644) com: {'max_depth': 7, 'min_samples_leaf': 200, 'n_estimators': 250}\n",
      "0.896466 (0.001949) com: {'max_depth': 8, 'min_samples_leaf': 100, 'n_estimators': 100}\n",
      "0.896820 (0.001717) com: {'max_depth': 8, 'min_samples_leaf': 100, 'n_estimators': 150}\n",
      "0.896692 (0.001505) com: {'max_depth': 8, 'min_samples_leaf': 100, 'n_estimators': 200}\n",
      "0.896685 (0.001692) com: {'max_depth': 8, 'min_samples_leaf': 100, 'n_estimators': 250}\n",
      "0.894495 (0.001911) com: {'max_depth': 8, 'min_samples_leaf': 150, 'n_estimators': 100}\n",
      "0.894588 (0.001663) com: {'max_depth': 8, 'min_samples_leaf': 150, 'n_estimators': 150}\n",
      "0.894449 (0.001796) com: {'max_depth': 8, 'min_samples_leaf': 150, 'n_estimators': 200}\n",
      "0.894522 (0.001367) com: {'max_depth': 8, 'min_samples_leaf': 150, 'n_estimators': 250}\n",
      "0.893357 (0.001507) com: {'max_depth': 8, 'min_samples_leaf': 200, 'n_estimators': 100}\n",
      "0.892907 (0.001438) com: {'max_depth': 8, 'min_samples_leaf': 200, 'n_estimators': 150}\n",
      "0.893185 (0.001492) com: {'max_depth': 8, 'min_samples_leaf': 200, 'n_estimators': 200}\n",
      "0.892926 (0.001544) com: {'max_depth': 8, 'min_samples_leaf': 200, 'n_estimators': 250}\n",
      "0.897632 (0.001767) com: {'max_depth': 9, 'min_samples_leaf': 100, 'n_estimators': 100}\n",
      "0.897819 (0.001706) com: {'max_depth': 9, 'min_samples_leaf': 100, 'n_estimators': 150}\n",
      "0.897914 (0.001592) com: {'max_depth': 9, 'min_samples_leaf': 100, 'n_estimators': 200}\n",
      "0.897872 (0.001541) com: {'max_depth': 9, 'min_samples_leaf': 100, 'n_estimators': 250}\n",
      "0.895648 (0.001498) com: {'max_depth': 9, 'min_samples_leaf': 150, 'n_estimators': 100}\n",
      "0.895518 (0.001576) com: {'max_depth': 9, 'min_samples_leaf': 150, 'n_estimators': 150}\n",
      "0.895862 (0.001577) com: {'max_depth': 9, 'min_samples_leaf': 150, 'n_estimators': 200}\n",
      "0.895610 (0.001562) com: {'max_depth': 9, 'min_samples_leaf': 150, 'n_estimators': 250}\n",
      "0.894173 (0.001457) com: {'max_depth': 9, 'min_samples_leaf': 200, 'n_estimators': 100}\n",
      "0.894134 (0.001590) com: {'max_depth': 9, 'min_samples_leaf': 200, 'n_estimators': 150}\n",
      "0.894178 (0.001615) com: {'max_depth': 9, 'min_samples_leaf': 200, 'n_estimators': 200}\n",
      "0.894100 (0.001439) com: {'max_depth': 9, 'min_samples_leaf': 200, 'n_estimators': 250}\n",
      "0.898713 (0.001713) com: {'max_depth': 10, 'min_samples_leaf': 100, 'n_estimators': 100}\n",
      "0.898493 (0.001677) com: {'max_depth': 10, 'min_samples_leaf': 100, 'n_estimators': 150}\n",
      "0.898506 (0.001444) com: {'max_depth': 10, 'min_samples_leaf': 100, 'n_estimators': 200}\n",
      "0.898674 (0.001769) com: {'max_depth': 10, 'min_samples_leaf': 100, 'n_estimators': 250}\n",
      "0.896456 (0.001691) com: {'max_depth': 10, 'min_samples_leaf': 150, 'n_estimators': 100}\n",
      "0.896138 (0.001569) com: {'max_depth': 10, 'min_samples_leaf': 150, 'n_estimators': 150}\n",
      "0.896082 (0.001621) com: {'max_depth': 10, 'min_samples_leaf': 150, 'n_estimators': 200}\n",
      "0.896078 (0.001545) com: {'max_depth': 10, 'min_samples_leaf': 150, 'n_estimators': 250}\n",
      "0.894723 (0.001633) com: {'max_depth': 10, 'min_samples_leaf': 200, 'n_estimators': 100}\n",
      "0.894698 (0.001514) com: {'max_depth': 10, 'min_samples_leaf': 200, 'n_estimators': 150}\n",
      "0.894454 (0.001501) com: {'max_depth': 10, 'min_samples_leaf': 200, 'n_estimators': 200}\n",
      "0.894560 (0.001443) com: {'max_depth': 10, 'min_samples_leaf': 200, 'n_estimators': 250}\n",
      "0.898896 (0.001662) com: {'max_depth': 11, 'min_samples_leaf': 100, 'n_estimators': 100}\n",
      "0.898846 (0.001610) com: {'max_depth': 11, 'min_samples_leaf': 100, 'n_estimators': 150}\n",
      "0.898961 (0.001603) com: {'max_depth': 11, 'min_samples_leaf': 100, 'n_estimators': 200}\n",
      "0.898958 (0.001616) com: {'max_depth': 11, 'min_samples_leaf': 100, 'n_estimators': 250}\n",
      "0.896586 (0.001585) com: {'max_depth': 11, 'min_samples_leaf': 150, 'n_estimators': 100}\n",
      "0.896237 (0.001699) com: {'max_depth': 11, 'min_samples_leaf': 150, 'n_estimators': 150}\n",
      "0.896334 (0.001696) com: {'max_depth': 11, 'min_samples_leaf': 150, 'n_estimators': 200}\n",
      "0.896489 (0.001608) com: {'max_depth': 11, 'min_samples_leaf': 150, 'n_estimators': 250}\n",
      "0.894668 (0.001798) com: {'max_depth': 11, 'min_samples_leaf': 200, 'n_estimators': 100}\n",
      "0.894815 (0.001479) com: {'max_depth': 11, 'min_samples_leaf': 200, 'n_estimators': 150}\n",
      "0.894780 (0.001432) com: {'max_depth': 11, 'min_samples_leaf': 200, 'n_estimators': 200}\n",
      "0.894840 (0.001569) com: {'max_depth': 11, 'min_samples_leaf': 200, 'n_estimators': 250}\n",
      "0.899380 (0.001530) com: {'max_depth': 12, 'min_samples_leaf': 100, 'n_estimators': 100}\n",
      "0.899055 (0.001374) com: {'max_depth': 12, 'min_samples_leaf': 100, 'n_estimators': 150}\n",
      "0.899472 (0.001755) com: {'max_depth': 12, 'min_samples_leaf': 100, 'n_estimators': 200}\n",
      "0.899269 (0.001617) com: {'max_depth': 12, 'min_samples_leaf': 100, 'n_estimators': 250}\n",
      "0.896407 (0.001514) com: {'max_depth': 12, 'min_samples_leaf': 150, 'n_estimators': 100}\n",
      "0.896647 (0.001639) com: {'max_depth': 12, 'min_samples_leaf': 150, 'n_estimators': 150}\n",
      "0.896661 (0.001622) com: {'max_depth': 12, 'min_samples_leaf': 150, 'n_estimators': 200}\n",
      "0.896670 (0.001637) com: {'max_depth': 12, 'min_samples_leaf': 150, 'n_estimators': 250}\n",
      "0.894911 (0.001612) com: {'max_depth': 12, 'min_samples_leaf': 200, 'n_estimators': 100}\n",
      "0.894974 (0.001642) com: {'max_depth': 12, 'min_samples_leaf': 200, 'n_estimators': 150}\n",
      "0.894604 (0.001578) com: {'max_depth': 12, 'min_samples_leaf': 200, 'n_estimators': 200}\n",
      "0.894933 (0.001490) com: {'max_depth': 12, 'min_samples_leaf': 200, 'n_estimators': 250}\n",
      "CPU times: total: 17.3 s\n",
      "Wall time: 21min 56s\n"
     ]
    }
   ],
   "source": [
    "%%time \n",
    "\n",
    "\n",
    "\n",
    "#Cria dicionário\n",
    "param_grid = dict(\n",
    "        \n",
    "    n_estimators = [100,150,200,250],\n",
    "    \n",
    "    max_depth=[5, 6, 7, 8, 9, 10, 11, 12],\n",
    "    \n",
    "    \n",
    "    min_samples_leaf = [100,150,200]\n",
    "\n",
    "    # 4*8*3 = 96\n",
    ")\n",
    "\n",
    "# Define o modelo\n",
    "model = RandomForestClassifier()\n",
    "\n",
    "# Define procedimento de avaliação\n",
    "cv = RepeatedStratifiedKFold(n_splits=5, n_repeats=5,random_state=8888)\n",
    "\n",
    "# Define grid search\n",
    "grid = GridSearchCV(estimator = model, param_grid=param_grid,n_jobs=-1,cv = cv)\n",
    "\n",
    "\n",
    "\n",
    "# Execução grid search\n",
    "grid_result = grid.fit(X,y)\n",
    "\n",
    "print('melhor: %f usando %s'% (grid_result.best_score_,grid_result.best_params_))\n",
    "\n",
    "# Resumo de todas as configurações\n",
    "\n",
    "means = grid_result.cv_results_['mean_test_score']\n",
    "stds = grid_result.cv_results_['std_test_score']\n",
    "params = grid_result.cv_results_['params']\n",
    "\n",
    "for mean, stdev, param in zip(means, stds, params):\n",
    "    print('%f (%f) com: %r' % (mean,stdev,param))"
   ]
  },
  {
   "cell_type": "code",
   "execution_count": null,
   "id": "2efa6aa2",
   "metadata": {},
   "outputs": [],
   "source": [
    "# melhor: 0.899472 usando {'max_depth': 12, 'min_samples_leaf': 100, 'n_estimators': 200}"
   ]
  },
  {
   "cell_type": "code",
   "execution_count": 20,
   "id": "10f49e2a",
   "metadata": {},
   "outputs": [
    {
     "name": "stdout",
     "output_type": "stream",
     "text": [
      "Accuracy: 87.36%\n"
     ]
    }
   ],
   "source": [
    "modelo_forest = RandomForestClassifier(max_depth = 12, min_samples_leaf = 100, n_estimators =  200, random_state=8888)\n",
    "\n",
    "# fit model no training data\n",
    "modelo_forest.fit(X, y)\n",
    "\n",
    "\n",
    "# make predictions for test data\n",
    "y_pred = modelo_forest.predict(X_test)\n",
    "predictions = [round(value) for value in y_pred]\n",
    "\n",
    "\n",
    "# evaluate predictions\n",
    "accuracy = accuracy_score(y_test, predictions)\n",
    "print(\"Accuracy: %.2f%%\" % (accuracy * 100.0))"
   ]
  },
  {
   "cell_type": "code",
   "execution_count": 21,
   "id": "009ce06d",
   "metadata": {},
   "outputs": [
    {
     "name": "stdout",
     "output_type": "stream",
     "text": [
      "              precision    recall  f1-score   support\n",
      "\n",
      "     class 0       0.98      0.89      0.93     13673\n",
      "     class 1       0.17      0.58      0.27       563\n",
      "\n",
      "    accuracy                           0.87     14236\n",
      "   macro avg       0.58      0.73      0.60     14236\n",
      "weighted avg       0.95      0.87      0.90     14236\n",
      "\n"
     ]
    }
   ],
   "source": [
    "target_names = ['class 0', 'class 1']\n",
    "print(classification_report(y_test, predictions, target_names=target_names))"
   ]
  },
  {
   "cell_type": "code",
   "execution_count": 22,
   "id": "7b4e2463",
   "metadata": {},
   "outputs": [
    {
     "data": {
      "text/plain": [
       "array([[  325,   238],\n",
       "       [ 1562, 12111]])"
      ]
     },
     "execution_count": 22,
     "metadata": {},
     "output_type": "execute_result"
    }
   ],
   "source": [
    "def get_confusion_matrix(reais, preditos, labels):\n",
    "    \"\"\"\n",
    "    Uma função que retorna a matriz de confusão para uma classificação binária\n",
    "    \n",
    "    Args:\n",
    "        reais (list): lista de valores reais\n",
    "        preditos (list): lista de valores preditos pelo modelos\n",
    "        labels (list): lista de labels a serem avaliados.\n",
    "            É importante que ela esteja presente, pois usaremos ela para entender\n",
    "            quem é a classe positiva e quem é a classe negativa\n",
    "    \n",
    "    Returns:\n",
    "        Um numpy.array, no formato:\n",
    "            numpy.array([\n",
    "                [ tp, fp ],\n",
    "                [ fn, tn ]\n",
    "            ])\n",
    "    \"\"\"\n",
    "    \n",
    "  \n",
    "    \n",
    "    # considerando a primeira classe como a positiva, e a segunda a negativa\n",
    "    true_class = labels[0]\n",
    "    negative_class = labels[1]\n",
    "\n",
    "    # valores preditos corretamente\n",
    "    tp = 0\n",
    "    tn = 0\n",
    "    \n",
    "    # valores preditos incorretamente\n",
    "    fp = 0\n",
    "    fn = 0\n",
    "    \n",
    "    for (indice, v_real) in enumerate(reais):\n",
    "        v_predito = preditos[indice]\n",
    "\n",
    "        # se trata de um valor real da classe positiva\n",
    "        if v_real == true_class:\n",
    "            tp += 1 if v_predito == v_real else 0\n",
    "            fp += 1 if v_predito != v_real else 0\n",
    "        else:\n",
    "            tn += 1 if v_predito == v_real else 0\n",
    "            fn += 1 if v_predito != v_real else 0\n",
    "    \n",
    "    return np.array([\n",
    "        # valores da classe positiva\n",
    "        [ tp, fp ],\n",
    "        # valores da classe negativa\n",
    "        [ fn, tn ]\n",
    "    ])\n",
    "\n",
    "r1,r2 = get_confusion_matrix(reais=y_test, preditos=y_pred, labels=[1,0])\n",
    "\n",
    "get_confusion_matrix(reais=y_test, preditos=y_pred, labels=[1,0])"
   ]
  },
  {
   "cell_type": "code",
   "execution_count": 23,
   "id": "c8c85b14",
   "metadata": {},
   "outputs": [
    {
     "name": "stdout",
     "output_type": "stream",
     "text": [
      "Verdadeiro Positivo: 325\n",
      "Falso Positivo:  238\n",
      "Falso Negativo: 1562\n",
      "Verdadeiro Negativo: 12111\n"
     ]
    }
   ],
   "source": [
    "vp = r1[0]\n",
    "fp = r1[1]\n",
    "fn = r2[0]\n",
    "vn = r2[1]\n",
    "print('Verdadeiro Positivo:',vp)\n",
    "print('Falso Positivo: ',fp)\n",
    "print('Falso Negativo:',fn)\n",
    "print('Verdadeiro Negativo:', vn)"
   ]
  },
  {
   "cell_type": "code",
   "execution_count": 24,
   "id": "9d7b725f",
   "metadata": {},
   "outputs": [
    {
     "name": "stdout",
     "output_type": "stream",
     "text": [
      "O lucro máximo possível é de 26870 reais\n",
      "O lucro máximo esperado por cliente é de 1.8874683899971902 reais\n"
     ]
    }
   ],
   "source": [
    "# CALCULANDO O LUCRO \n",
    "\n",
    "Lucro_max = (90*vp) - (10*fp)\n",
    "\n",
    "Lucro_max_cliente = (((90*vp) - (10*fp))/(vp+vn+fn+fp))\n",
    "\n",
    "print('O lucro máximo possível é de',Lucro_max,'reais')\n",
    "print('O lucro máximo esperado por cliente é de',Lucro_max_cliente,'reais')"
   ]
  },
  {
   "cell_type": "code",
   "execution_count": 65,
   "id": "173553cf",
   "metadata": {},
   "outputs": [
    {
     "name": "stdout",
     "output_type": "stream",
     "text": [
      "Threshold= 0.298688, G-means = 0.759\n"
     ]
    },
    {
     "data": {
      "image/png": "[encoded data removed]",
      "text/plain": [
       "<Figure size 432x288 with 1 Axes>"
      ]
     },
     "metadata": {
      "needs_background": "light"
     },
     "output_type": "display_data"
    }
   ],
   "source": [
    "#Utilizando o modelo para a previsão\n",
    "\n",
    "y_prob = modelo_forest.predict_proba(X_test)\n",
    "\n",
    "#Probabilidade dos casos positivos\n",
    "y_prob = y_prob[:, 1]\n",
    "\n",
    "# Calculo da curva roc\n",
    "\n",
    "fpr, tpr, thresholds = roc_curve(y_test, y_prob)\n",
    "\n",
    "gmeans = np.sqrt(tpr * (1-fpr))\n",
    "\n",
    "#o melhor corte\n",
    "\n",
    "ix = np.argmax(gmeans)\n",
    "print('Threshold= %f, G-means = %.3f' % (thresholds[ix], gmeans[ix]))\n",
    "\n",
    "#Plotar o gráfico\n",
    "plt.plot([0,1],[0,1], linestyle='-', label='Sem previsão')\n",
    "plt.plot(fpr,tpr,marker = '.', label='Random Forest')\n",
    "plt.scatter(fpr[ix], tpr[ix],marker='o',color='blue',label='Melhor')\n",
    "\n",
    "plt.xlabel('Taxa de falso positivo')\n",
    "plt.ylabel('Taxa de verdadeiro positivo')\n",
    "plt.legend()\n",
    "\n",
    "#Plotar\n",
    "plt.show()\n",
    "\n",
    "\n"
   ]
  },
  {
   "cell_type": "markdown",
   "id": "445d5089",
   "metadata": {},
   "source": [
    "### Determinação do grupo 1"
   ]
  },
  {
   "cell_type": "code",
   "execution_count": 31,
   "id": "a0824562",
   "metadata": {},
   "outputs": [],
   "source": [
    "y_pred = (modelo_forest.predict_proba(X_test)[:,1] >= 0.29).astype(bool) "
   ]
  },
  {
   "cell_type": "code",
   "execution_count": 32,
   "id": "e86a5ab4",
   "metadata": {},
   "outputs": [
    {
     "data": {
      "text/plain": [
       "array([[  411,   152],\n",
       "       [ 2925, 10748]])"
      ]
     },
     "execution_count": 32,
     "metadata": {},
     "output_type": "execute_result"
    }
   ],
   "source": [
    "def get_confusion_matrix(reais, preditos, labels):\n",
    "    \"\"\"\n",
    "    Uma função que retorna a matriz de confusão para uma classificação binária\n",
    "    \n",
    "    Args:\n",
    "        reais (list): lista de valores reais\n",
    "        preditos (list): lista de valores preditos pelo modelos\n",
    "        labels (list): lista de labels a serem avaliados.\n",
    "            É importante que ela esteja presente, pois usaremos ela para entender\n",
    "            quem é a classe positiva e quem é a classe negativa\n",
    "    \n",
    "    Returns:\n",
    "        Um numpy.array, no formato:\n",
    "            numpy.array([\n",
    "                [ tp, fp ],\n",
    "                [ fn, tn ]\n",
    "            ])\n",
    "    \"\"\"\n",
    "  \n",
    "    \n",
    "    # considerando a primeira classe como a positiva, e a segunda a negativa\n",
    "    true_class = labels[0]\n",
    "    negative_class = labels[1]\n",
    "\n",
    "    # valores preditos corretamente\n",
    "    tp = 0\n",
    "    tn = 0\n",
    "    \n",
    "    # valores preditos incorretamente\n",
    "    fp = 0\n",
    "    fn = 0\n",
    "    \n",
    "    for (indice, v_real) in enumerate(reais):\n",
    "        v_predito = preditos[indice]\n",
    "\n",
    "        # se trata de um valor real da classe positiva\n",
    "        if v_real == true_class:\n",
    "            tp += 1 if v_predito == v_real else 0\n",
    "            fp += 1 if v_predito != v_real else 0\n",
    "        else:\n",
    "            tn += 1 if v_predito == v_real else 0\n",
    "            fn += 1 if v_predito != v_real else 0\n",
    "    \n",
    "    return np.array([\n",
    "        # valores da classe positiva\n",
    "        [ tp, fp ],\n",
    "        # valores da classe negativa\n",
    "        [ fn, tn ]\n",
    "    ])\n",
    "\n",
    "r1,r2 = get_confusion_matrix(reais=y_test, preditos=y_pred, labels=[1,0])\n",
    "\n",
    "get_confusion_matrix(reais=y_test, preditos=y_pred, labels=[1,0])"
   ]
  },
  {
   "cell_type": "code",
   "execution_count": 33,
   "id": "a08308ab",
   "metadata": {},
   "outputs": [
    {
     "name": "stdout",
     "output_type": "stream",
     "text": [
      "Verdadeiro Positivo: 411\n",
      "Falso Positivo:  152\n",
      "Falso Negativo: 2925\n",
      "Verdadeiro Negativo: 10748\n"
     ]
    }
   ],
   "source": [
    "vp = r1[0]\n",
    "fp = r1[1]\n",
    "fn = r2[0]\n",
    "vn = r2[1]\n",
    "print('Verdadeiro Positivo:',vp)\n",
    "print('Falso Positivo: ',fp)\n",
    "print('Falso Negativo:',fn)\n",
    "print('Verdadeiro Negativo:', vn)"
   ]
  },
  {
   "cell_type": "code",
   "execution_count": 34,
   "id": "75aee3cf",
   "metadata": {},
   "outputs": [
    {
     "name": "stdout",
     "output_type": "stream",
     "text": [
      "O lucro máximo possível é de 35470 reais\n",
      "O lucro máximo esperado por cliente é de 2.4915706659173926 reais\n"
     ]
    }
   ],
   "source": [
    "# CALCULANDO O LUCRO\n",
    "\n",
    "\n",
    "Lucro_max = (90*vp) - (10*fp)\n",
    "\n",
    "Lucro_max_cliente = (((90*vp) - (10*fp))/(vp+vn+fn+fp))\n",
    "\n",
    "print('O lucro máximo possível é de',Lucro_max,'reais')\n",
    "print('O lucro máximo esperado por cliente é de',Lucro_max_cliente,'reais')"
   ]
  },
  {
   "cell_type": "markdown",
   "id": "d79ca347",
   "metadata": {},
   "source": [
    "# Questão 1\n",
    "\n",
    "### O maior lucro foi do modelo de Random forest com um total de 26.870 reais 1,89 reais por cliente"
   ]
  },
  {
   "cell_type": "markdown",
   "id": "e26bdb71",
   "metadata": {},
   "source": [
    "# Questão 2\n",
    "\n",
    "### Com o threshold da questão anterior no modelo de Random forest de 0.29, vamos utilizar o modelo para fazer a previsão na base de teste, a este grupo temos o máximo do lucro, denominado grupo 1. Como podemos acompanhar abaixo: \n",
    "### O lucro máximo é de 35.470 reais neste grupo 1\n",
    "### O lucro máximo esperado por cliente é de 2.49 reais neste grupo 1. Isto é, todos acima do threshold de 0.29 serão o grupo 1"
   ]
  },
  {
   "cell_type": "markdown",
   "id": "f28e78a2",
   "metadata": {},
   "source": [
    "# Questão 3 - Clusterização"
   ]
  },
  {
   "cell_type": "markdown",
   "id": "9d2d973f",
   "metadata": {},
   "source": [
    "#### Estamos trabalhando com variáveis numéricas e categóricas, logo vamos utilizar o k-prototype para essa tarefa que permite trabalhar com os dois tipos de dados ao mesmo tempo. Antes de iniciar a clusterização, é necessário transformar a escala dos dados, no caso de k-prototype, vamos utilizar MinMaxScaler para transformar a escala das variáveis numéricas para ficarem entre 0 e 1, pois assim será comparável com a distância de hamming das variáveis categóricas. \n",
    "\n",
    "### Quero dividir em grupos naturais com os maiores lucros esperados, e isso vai acontecer com o grupo que o modelo classificou como 1 e de fato era 1\n",
    "\n"
   ]
  },
  {
   "cell_type": "markdown",
   "id": "140fbfed",
   "metadata": {},
   "source": [
    "### Criar a base e extrair o grupo que o modelo classificou como 1 e de fato era 1"
   ]
  },
  {
   "cell_type": "code",
   "execution_count": 35,
   "id": "b4d4cc17",
   "metadata": {},
   "outputs": [],
   "source": [
    "df_test_t = pd.DataFrame(y_test, columns=['test'])"
   ]
  },
  {
   "cell_type": "code",
   "execution_count": 36,
   "id": "37df8214",
   "metadata": {},
   "outputs": [],
   "source": [
    "df_test_t.reset_index(inplace=True)"
   ]
  },
  {
   "cell_type": "code",
   "execution_count": 37,
   "id": "fb92b497",
   "metadata": {},
   "outputs": [],
   "source": [
    "df_test_t.drop(columns = ['index'],inplace=True)"
   ]
  },
  {
   "cell_type": "code",
   "execution_count": 38,
   "id": "39f57d7b",
   "metadata": {},
   "outputs": [],
   "source": [
    "df_test_p = pd.DataFrame(y_pred, columns=['TARGET_pred'])"
   ]
  },
  {
   "cell_type": "code",
   "execution_count": 39,
   "id": "885f9d93",
   "metadata": {},
   "outputs": [],
   "source": [
    "df_test_p.reset_index(inplace=True)"
   ]
  },
  {
   "cell_type": "code",
   "execution_count": 40,
   "id": "40b79aa5",
   "metadata": {},
   "outputs": [],
   "source": [
    "def tf(x):\n",
    "    if x == False:\n",
    "        return 0\n",
    "    else: \n",
    "        return 1"
   ]
  },
  {
   "cell_type": "code",
   "execution_count": 41,
   "id": "6f6756a4",
   "metadata": {},
   "outputs": [],
   "source": [
    "df_test_p['pred'] = df_test_p['TARGET_pred'].apply(lambda x: tf(x))"
   ]
  },
  {
   "cell_type": "code",
   "execution_count": 42,
   "id": "451e9122",
   "metadata": {},
   "outputs": [],
   "source": [
    "df_test_p.drop(columns=['TARGET_pred'],inplace=True)"
   ]
  },
  {
   "cell_type": "code",
   "execution_count": 43,
   "id": "c45ca731",
   "metadata": {},
   "outputs": [],
   "source": [
    "df_test_p.drop(columns = ['index'],inplace=True)"
   ]
  },
  {
   "cell_type": "code",
   "execution_count": 44,
   "id": "54f625ea",
   "metadata": {},
   "outputs": [],
   "source": [
    "X_test.reset_index(inplace=True)"
   ]
  },
  {
   "cell_type": "code",
   "execution_count": 45,
   "id": "c1194190",
   "metadata": {},
   "outputs": [],
   "source": [
    "X_test.drop(columns = ['index'],inplace=True)"
   ]
  },
  {
   "cell_type": "code",
   "execution_count": 46,
   "id": "712dbc92",
   "metadata": {},
   "outputs": [],
   "source": [
    "df_clus = pd.concat([X_test,df_test_t,df_test_p],axis=1)"
   ]
  },
  {
   "cell_type": "code",
   "execution_count": 47,
   "id": "c5f0e530",
   "metadata": {},
   "outputs": [
    {
     "data": {
      "text/html": [
       "<div>\n",
       "<style scoped>\n",
       "    .dataframe tbody tr th:only-of-type {\n",
       "        vertical-align: middle;\n",
       "    }\n",
       "\n",
       "    .dataframe tbody tr th {\n",
       "        vertical-align: top;\n",
       "    }\n",
       "\n",
       "    .dataframe thead th {\n",
       "        text-align: right;\n",
       "    }\n",
       "</style>\n",
       "<table border=\"1\" class=\"dataframe\">\n",
       "  <thead>\n",
       "    <tr style=\"text-align: right;\">\n",
       "      <th></th>\n",
       "      <th>var15</th>\n",
       "      <th>inf_qtd_zeros</th>\n",
       "      <th>saldo_var30</th>\n",
       "      <th>saldo_var13</th>\n",
       "      <th>imp_op_var39_efect_ult1</th>\n",
       "      <th>var36</th>\n",
       "      <th>num_var30</th>\n",
       "      <th>num_op_var41_efect_ult3</th>\n",
       "      <th>num_op_var39_ult3</th>\n",
       "      <th>test</th>\n",
       "      <th>pred</th>\n",
       "    </tr>\n",
       "  </thead>\n",
       "  <tbody>\n",
       "    <tr>\n",
       "      <th>0</th>\n",
       "      <td>24.0</td>\n",
       "      <td>355.0</td>\n",
       "      <td>0.00</td>\n",
       "      <td>0.0</td>\n",
       "      <td>0.0</td>\n",
       "      <td>99</td>\n",
       "      <td>0</td>\n",
       "      <td>0</td>\n",
       "      <td>0</td>\n",
       "      <td>0</td>\n",
       "      <td>0</td>\n",
       "    </tr>\n",
       "    <tr>\n",
       "      <th>1</th>\n",
       "      <td>23.0</td>\n",
       "      <td>345.0</td>\n",
       "      <td>3.00</td>\n",
       "      <td>0.0</td>\n",
       "      <td>0.0</td>\n",
       "      <td>3</td>\n",
       "      <td>3</td>\n",
       "      <td>0</td>\n",
       "      <td>0</td>\n",
       "      <td>0</td>\n",
       "      <td>0</td>\n",
       "    </tr>\n",
       "    <tr>\n",
       "      <th>2</th>\n",
       "      <td>23.0</td>\n",
       "      <td>338.0</td>\n",
       "      <td>3.00</td>\n",
       "      <td>0.0</td>\n",
       "      <td>0.0</td>\n",
       "      <td>3</td>\n",
       "      <td>3</td>\n",
       "      <td>0</td>\n",
       "      <td>0</td>\n",
       "      <td>0</td>\n",
       "      <td>0</td>\n",
       "    </tr>\n",
       "    <tr>\n",
       "      <th>3</th>\n",
       "      <td>26.0</td>\n",
       "      <td>340.0</td>\n",
       "      <td>3.00</td>\n",
       "      <td>0.0</td>\n",
       "      <td>0.0</td>\n",
       "      <td>3</td>\n",
       "      <td>3</td>\n",
       "      <td>0</td>\n",
       "      <td>0</td>\n",
       "      <td>0</td>\n",
       "      <td>0</td>\n",
       "    </tr>\n",
       "    <tr>\n",
       "      <th>4</th>\n",
       "      <td>23.0</td>\n",
       "      <td>340.0</td>\n",
       "      <td>3.00</td>\n",
       "      <td>0.0</td>\n",
       "      <td>0.0</td>\n",
       "      <td>3</td>\n",
       "      <td>3</td>\n",
       "      <td>0</td>\n",
       "      <td>0</td>\n",
       "      <td>0</td>\n",
       "      <td>0</td>\n",
       "    </tr>\n",
       "    <tr>\n",
       "      <th>...</th>\n",
       "      <td>...</td>\n",
       "      <td>...</td>\n",
       "      <td>...</td>\n",
       "      <td>...</td>\n",
       "      <td>...</td>\n",
       "      <td>...</td>\n",
       "      <td>...</td>\n",
       "      <td>...</td>\n",
       "      <td>...</td>\n",
       "      <td>...</td>\n",
       "      <td>...</td>\n",
       "    </tr>\n",
       "    <tr>\n",
       "      <th>14231</th>\n",
       "      <td>23.0</td>\n",
       "      <td>307.0</td>\n",
       "      <td>231.00</td>\n",
       "      <td>0.0</td>\n",
       "      <td>570.0</td>\n",
       "      <td>1</td>\n",
       "      <td>3</td>\n",
       "      <td>12</td>\n",
       "      <td>33</td>\n",
       "      <td>0</td>\n",
       "      <td>0</td>\n",
       "    </tr>\n",
       "    <tr>\n",
       "      <th>14232</th>\n",
       "      <td>38.0</td>\n",
       "      <td>318.0</td>\n",
       "      <td>30006.00</td>\n",
       "      <td>0.0</td>\n",
       "      <td>0.0</td>\n",
       "      <td>1</td>\n",
       "      <td>6</td>\n",
       "      <td>0</td>\n",
       "      <td>0</td>\n",
       "      <td>0</td>\n",
       "      <td>0</td>\n",
       "    </tr>\n",
       "    <tr>\n",
       "      <th>14233</th>\n",
       "      <td>24.0</td>\n",
       "      <td>340.0</td>\n",
       "      <td>3.00</td>\n",
       "      <td>0.0</td>\n",
       "      <td>0.0</td>\n",
       "      <td>3</td>\n",
       "      <td>3</td>\n",
       "      <td>0</td>\n",
       "      <td>0</td>\n",
       "      <td>0</td>\n",
       "      <td>0</td>\n",
       "    </tr>\n",
       "    <tr>\n",
       "      <th>14234</th>\n",
       "      <td>47.0</td>\n",
       "      <td>314.0</td>\n",
       "      <td>45003.00</td>\n",
       "      <td>45000.0</td>\n",
       "      <td>0.0</td>\n",
       "      <td>3</td>\n",
       "      <td>6</td>\n",
       "      <td>0</td>\n",
       "      <td>0</td>\n",
       "      <td>0</td>\n",
       "      <td>0</td>\n",
       "    </tr>\n",
       "    <tr>\n",
       "      <th>14235</th>\n",
       "      <td>38.0</td>\n",
       "      <td>318.0</td>\n",
       "      <td>9609.48</td>\n",
       "      <td>0.0</td>\n",
       "      <td>0.0</td>\n",
       "      <td>1</td>\n",
       "      <td>6</td>\n",
       "      <td>0</td>\n",
       "      <td>0</td>\n",
       "      <td>0</td>\n",
       "      <td>0</td>\n",
       "    </tr>\n",
       "  </tbody>\n",
       "</table>\n",
       "<p>14236 rows × 11 columns</p>\n",
       "</div>"
      ],
      "text/plain": [
       "       var15  inf_qtd_zeros  saldo_var30  saldo_var13  imp_op_var39_efect_ult1  var36  num_var30  num_op_var41_efect_ult3  num_op_var39_ult3  test  pred\n",
       "0       24.0          355.0         0.00          0.0                      0.0     99          0                        0                  0     0     0\n",
       "1       23.0          345.0         3.00          0.0                      0.0      3          3                        0                  0     0     0\n",
       "2       23.0          338.0         3.00          0.0                      0.0      3          3                        0                  0     0     0\n",
       "3       26.0          340.0         3.00          0.0                      0.0      3          3                        0                  0     0     0\n",
       "4       23.0          340.0         3.00          0.0                      0.0      3          3                        0                  0     0     0\n",
       "...      ...            ...          ...          ...                      ...    ...        ...                      ...                ...   ...   ...\n",
       "14231   23.0          307.0       231.00          0.0                    570.0      1          3                       12                 33     0     0\n",
       "14232   38.0          318.0     30006.00          0.0                      0.0      1          6                        0                  0     0     0\n",
       "14233   24.0          340.0         3.00          0.0                      0.0      3          3                        0                  0     0     0\n",
       "14234   47.0          314.0     45003.00      45000.0                      0.0      3          6                        0                  0     0     0\n",
       "14235   38.0          318.0      9609.48          0.0                      0.0      1          6                        0                  0     0     0\n",
       "\n",
       "[14236 rows x 11 columns]"
      ]
     },
     "execution_count": 47,
     "metadata": {},
     "output_type": "execute_result"
    }
   ],
   "source": [
    "df_clus"
   ]
  },
  {
   "cell_type": "code",
   "execution_count": 48,
   "id": "44deb769",
   "metadata": {},
   "outputs": [],
   "source": [
    "df_clus2 = df_clus[df_clus['test'] == 1 ]"
   ]
  },
  {
   "cell_type": "code",
   "execution_count": 49,
   "id": "b4c5fbe1",
   "metadata": {},
   "outputs": [],
   "source": [
    "df_clust =  df_clus2[df_clus2['pred'] == 1 ]"
   ]
  },
  {
   "cell_type": "code",
   "execution_count": 50,
   "id": "de2641f0",
   "metadata": {},
   "outputs": [
    {
     "data": {
      "text/plain": [
       "(411, 11)"
      ]
     },
     "execution_count": 50,
     "metadata": {},
     "output_type": "execute_result"
    }
   ],
   "source": [
    "df_clust.shape"
   ]
  },
  {
   "cell_type": "code",
   "execution_count": 51,
   "id": "69cb8084",
   "metadata": {},
   "outputs": [],
   "source": [
    "df_clust.drop(columns = ['test','pred'],inplace=True)"
   ]
  },
  {
   "cell_type": "code",
   "execution_count": 52,
   "id": "03eca680",
   "metadata": {},
   "outputs": [
    {
     "data": {
      "text/html": [
       "<div>\n",
       "<style scoped>\n",
       "    .dataframe tbody tr th:only-of-type {\n",
       "        vertical-align: middle;\n",
       "    }\n",
       "\n",
       "    .dataframe tbody tr th {\n",
       "        vertical-align: top;\n",
       "    }\n",
       "\n",
       "    .dataframe thead th {\n",
       "        text-align: right;\n",
       "    }\n",
       "</style>\n",
       "<table border=\"1\" class=\"dataframe\">\n",
       "  <thead>\n",
       "    <tr style=\"text-align: right;\">\n",
       "      <th></th>\n",
       "      <th>var15</th>\n",
       "      <th>inf_qtd_zeros</th>\n",
       "      <th>saldo_var30</th>\n",
       "      <th>saldo_var13</th>\n",
       "      <th>imp_op_var39_efect_ult1</th>\n",
       "      <th>var36</th>\n",
       "      <th>num_var30</th>\n",
       "      <th>num_op_var41_efect_ult3</th>\n",
       "      <th>num_op_var39_ult3</th>\n",
       "    </tr>\n",
       "  </thead>\n",
       "  <tbody>\n",
       "    <tr>\n",
       "      <th>11</th>\n",
       "      <td>50.0</td>\n",
       "      <td>330.0</td>\n",
       "      <td>4.77</td>\n",
       "      <td>0.0</td>\n",
       "      <td>0.0</td>\n",
       "      <td>3</td>\n",
       "      <td>3</td>\n",
       "      <td>0</td>\n",
       "      <td>6</td>\n",
       "    </tr>\n",
       "    <tr>\n",
       "      <th>25</th>\n",
       "      <td>37.0</td>\n",
       "      <td>343.0</td>\n",
       "      <td>0.00</td>\n",
       "      <td>0.0</td>\n",
       "      <td>0.0</td>\n",
       "      <td>2</td>\n",
       "      <td>0</td>\n",
       "      <td>0</td>\n",
       "      <td>0</td>\n",
       "    </tr>\n",
       "  </tbody>\n",
       "</table>\n",
       "</div>"
      ],
      "text/plain": [
       "    var15  inf_qtd_zeros  saldo_var30  saldo_var13  imp_op_var39_efect_ult1  var36  num_var30  num_op_var41_efect_ult3  num_op_var39_ult3\n",
       "11   50.0          330.0         4.77          0.0                      0.0      3          3                        0                  6\n",
       "25   37.0          343.0         0.00          0.0                      0.0      2          0                        0                  0"
      ]
     },
     "execution_count": 52,
     "metadata": {},
     "output_type": "execute_result"
    }
   ],
   "source": [
    "df_clust.head(2)"
   ]
  },
  {
   "cell_type": "code",
   "execution_count": 53,
   "id": "a8a3cf0a",
   "metadata": {},
   "outputs": [
    {
     "name": "stdout",
     "output_type": "stream",
     "text": [
      "<class 'pandas.core.frame.DataFrame'>\n",
      "Int64Index: 411 entries, 11 to 14180\n",
      "Data columns (total 9 columns):\n",
      " #   Column                   Non-Null Count  Dtype  \n",
      "---  ------                   --------------  -----  \n",
      " 0   var15                    411 non-null    float64\n",
      " 1   inf_qtd_zeros            411 non-null    float64\n",
      " 2   saldo_var30              411 non-null    float64\n",
      " 3   saldo_var13              411 non-null    float64\n",
      " 4   imp_op_var39_efect_ult1  411 non-null    float64\n",
      " 5   var36                    411 non-null    int64  \n",
      " 6   num_var30                411 non-null    int64  \n",
      " 7   num_op_var41_efect_ult3  411 non-null    int64  \n",
      " 8   num_op_var39_ult3        411 non-null    int64  \n",
      "dtypes: float64(5), int64(4)\n",
      "memory usage: 32.1 KB\n"
     ]
    }
   ],
   "source": [
    "df_clust.info()"
   ]
  },
  {
   "cell_type": "code",
   "execution_count": 54,
   "id": "286e25f0",
   "metadata": {},
   "outputs": [],
   "source": [
    "df_cat = df_clust.select_dtypes(include=['int64'])"
   ]
  },
  {
   "cell_type": "code",
   "execution_count": 55,
   "id": "39ff1753",
   "metadata": {},
   "outputs": [],
   "source": [
    "# Padronização  \n",
    "\n",
    "padronizar = df_clust.select_dtypes(include=['float64'])\n",
    "\n",
    "var  = MinMaxScaler()\n",
    "df_num  = var.fit_transform(padronizar)"
   ]
  },
  {
   "cell_type": "code",
   "execution_count": 56,
   "id": "b7ec9514",
   "metadata": {},
   "outputs": [
    {
     "data": {
      "text/html": [
       "<div>\n",
       "<style scoped>\n",
       "    .dataframe tbody tr th:only-of-type {\n",
       "        vertical-align: middle;\n",
       "    }\n",
       "\n",
       "    .dataframe tbody tr th {\n",
       "        vertical-align: top;\n",
       "    }\n",
       "\n",
       "    .dataframe thead th {\n",
       "        text-align: right;\n",
       "    }\n",
       "</style>\n",
       "<table border=\"1\" class=\"dataframe\">\n",
       "  <thead>\n",
       "    <tr style=\"text-align: right;\">\n",
       "      <th></th>\n",
       "      <th>var15</th>\n",
       "      <th>inf_qtd_zeros</th>\n",
       "      <th>saldo_var30</th>\n",
       "      <th>saldo_var13</th>\n",
       "      <th>imp_op_var39_efect_ult1</th>\n",
       "    </tr>\n",
       "  </thead>\n",
       "  <tbody>\n",
       "    <tr>\n",
       "      <th>0</th>\n",
       "      <td>0.380282</td>\n",
       "      <td>0.666667</td>\n",
       "      <td>0.359897</td>\n",
       "      <td>0.0</td>\n",
       "      <td>0.0</td>\n",
       "    </tr>\n",
       "    <tr>\n",
       "      <th>1</th>\n",
       "      <td>0.197183</td>\n",
       "      <td>0.811111</td>\n",
       "      <td>0.359305</td>\n",
       "      <td>0.0</td>\n",
       "      <td>0.0</td>\n",
       "    </tr>\n",
       "    <tr>\n",
       "      <th>2</th>\n",
       "      <td>0.225352</td>\n",
       "      <td>0.755556</td>\n",
       "      <td>0.359305</td>\n",
       "      <td>0.0</td>\n",
       "      <td>0.0</td>\n",
       "    </tr>\n",
       "    <tr>\n",
       "      <th>3</th>\n",
       "      <td>0.309859</td>\n",
       "      <td>0.500000</td>\n",
       "      <td>0.370625</td>\n",
       "      <td>0.0</td>\n",
       "      <td>0.0</td>\n",
       "    </tr>\n",
       "    <tr>\n",
       "      <th>4</th>\n",
       "      <td>0.366197</td>\n",
       "      <td>0.800000</td>\n",
       "      <td>0.359677</td>\n",
       "      <td>0.0</td>\n",
       "      <td>0.0</td>\n",
       "    </tr>\n",
       "  </tbody>\n",
       "</table>\n",
       "</div>"
      ],
      "text/plain": [
       "      var15  inf_qtd_zeros  saldo_var30  saldo_var13  imp_op_var39_efect_ult1\n",
       "0  0.380282       0.666667     0.359897          0.0                      0.0\n",
       "1  0.197183       0.811111     0.359305          0.0                      0.0\n",
       "2  0.225352       0.755556     0.359305          0.0                      0.0\n",
       "3  0.309859       0.500000     0.370625          0.0                      0.0\n",
       "4  0.366197       0.800000     0.359677          0.0                      0.0"
      ]
     },
     "execution_count": 56,
     "metadata": {},
     "output_type": "execute_result"
    }
   ],
   "source": [
    "df_num2=pd.DataFrame(df_num,columns=padronizar.columns)\n",
    "df_num2.head()"
   ]
  },
  {
   "cell_type": "code",
   "execution_count": 57,
   "id": "c616cb7d",
   "metadata": {},
   "outputs": [],
   "source": [
    "df_cat.reset_index(inplace=True)"
   ]
  },
  {
   "cell_type": "code",
   "execution_count": 58,
   "id": "fb9135bd",
   "metadata": {},
   "outputs": [],
   "source": [
    "df_cat.drop(columns = ['index'],inplace=True)"
   ]
  },
  {
   "cell_type": "code",
   "execution_count": 59,
   "id": "27861dbe",
   "metadata": {},
   "outputs": [],
   "source": [
    "df_cluster = pd.concat([df_cat,df_num2],axis=1)"
   ]
  },
  {
   "cell_type": "code",
   "execution_count": 60,
   "id": "0a3ea26c",
   "metadata": {},
   "outputs": [],
   "source": [
    "SSE = []\n",
    "for i in range(1, 8):\n",
    "    kmeans = KMeans(n_clusters = i, random_state = 7)\n",
    "    kmeans.fit(df_cluster)\n",
    "    SSE.append(kmeans.inertia_)"
   ]
  },
  {
   "cell_type": "code",
   "execution_count": 61,
   "id": "12db3ce5",
   "metadata": {},
   "outputs": [
    {
     "data": {
      "image/png": "[encoded data removed]",
      "text/plain": [
       "<Figure size 864x360 with 1 Axes>"
      ]
     },
     "metadata": {
      "needs_background": "light"
     },
     "output_type": "display_data"
    }
   ],
   "source": [
    "plt.figure(figsize=(12,5))\n",
    "sns.lineplot(range(1, 8), SSE,marker='o')\n",
    "plt.title('Elbow Method')\n",
    "plt.xlabel('Number of clusters')\n",
    "plt.ylabel('SSE')\n",
    "plt.show()"
   ]
  },
  {
   "cell_type": "code",
   "execution_count": 62,
   "id": "1b6ba419",
   "metadata": {},
   "outputs": [],
   "source": [
    "kproto_clusters=KPrototypes(n_clusters=3,random_state=8,init=\"Cao\")\n",
    "result_cluster=kproto_clusters.fit_predict(df_cluster,categorical=[1])"
   ]
  },
  {
   "cell_type": "code",
   "execution_count": 63,
   "id": "78118cf2",
   "metadata": {},
   "outputs": [
    {
     "data": {
      "text/plain": [
       "0    312\n",
       "1     73\n",
       "2     26\n",
       "Name: Clusters, dtype: int64"
      ]
     },
     "execution_count": 63,
     "metadata": {},
     "output_type": "execute_result"
    }
   ],
   "source": [
    "df_cluster['Clusters']=result_cluster\n",
    "df_cluster['Clusters'].value_counts()"
   ]
  },
  {
   "cell_type": "code",
   "execution_count": 64,
   "id": "b6e055d5",
   "metadata": {},
   "outputs": [
    {
     "data": {
      "image/png": "[encoded data removed]",
      "text/plain": [
       "<Figure size 432x288 with 1 Axes>"
      ]
     },
     "metadata": {
      "needs_background": "light"
     },
     "output_type": "display_data"
    }
   ],
   "source": [
    "ax=sns.countplot(x=df_cluster.Clusters)\n",
    "for index, row in pd.DataFrame(df_cluster['Clusters'].value_counts()).iterrows():\n",
    "    ax.text(index,row.values[0], str(round(row.values[0])),color='black', ha=\"center\")\n",
    "    #print(index,row.values[0])\n",
    "plt.title('Cluster Count')\n",
    "plt.show()"
   ]
  },
  {
   "cell_type": "markdown",
   "id": "8da94ae6",
   "metadata": {},
   "source": [
    "## Questão 3 - Lucro\n",
    "## Grupo 1 = 90*312 = 28.080\n",
    "## Grupo 2 = 90*73 = 6.570\n",
    "## Grupo 3 = 90*26 = 2.340"
   ]
  }
 ],
 "metadata": {
  "kernelspec": {
   "display_name": "Python 3 (ipykernel)",
   "language": "python",
   "name": "python3"
  },
  "language_info": {
   "codemirror_mode": {
    "name": "ipython",
    "version": 3
   },
   "file_extension": ".py",
   "mimetype": "text/x-python",
   "name": "python",
   "nbconvert_exporter": "python",
   "pygments_lexer": "ipython3",
   "version": "3.9.12"
  }
 },
 "nbformat": 4,
 "nbformat_minor": 5
}
